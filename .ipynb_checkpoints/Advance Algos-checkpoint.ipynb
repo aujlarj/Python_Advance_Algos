{
 "cells": [
  {
   "cell_type": "markdown",
   "id": "c75c34e8",
   "metadata": {},
   "source": [
    "# Divide and Conquer"
   ]
  },
  {
   "cell_type": "markdown",
   "id": "608a78c2",
   "metadata": {},
   "source": [
    "<u>[Example](https://leetcode.com/problems/median-of-two-sorted-arrays/)</u>:</br>\n",
    "Given two sorted arrays `nums1` and `nums2` of size `m` and `n` respectively, return the median of the two sorted arrays.\n",
    "\n",
    "The overall run time complexity should be `O(log (m+n)).`"
   ]
  },
  {
   "cell_type": "markdown",
   "id": "53a03da9",
   "metadata": {},
   "source": [
    "### Understand\n",
    "    - Input \n",
    "        * Two sorted array\n",
    "        * Length of arrays -> limited (0 to some_number)\n",
    "        * Array contains -> Integer (-ve numbers to +ve numbers)\n",
    "    - Output \n",
    "        * Median\n",
    "        \n",
    "    - Run time Complexity -> log(m+n)"
   ]
  },
  {
   "attachments": {},
   "cell_type": "markdown",
   "id": "76eeae5e",
   "metadata": {},
   "source": [
    "### Think\n",
    "\n",
    "Let's analyize and rule out the techniques that does not match runtime complexity of `O(log (m+n))`\n",
    "\n",
    "<b>Median Formula</b><br>\n",
    "List $X$ of length $n$<br>\n",
    "<img style=\"float: left;\" src=\"https://www.gstatic.com/education/formulas2/553212783/en/median_formula.svg\" width=\"200\"/>    \n",
    "<br><br><br></br>\n",
    "\n",
    "<u>Invalid Approches</u>\n",
    "* Combine both arrays, sort them and get median\n",
    "    - runtime `O(k(log(k))` where k = m+n\n",
    "    - best case runtime `O(k)` where k = m + n\n",
    "* Linear/Sequential search both arrays to find the median\n",
    "    - runtime `O(k)` where k = m + n\n",
    "    \n",
    "<u>Valid Approch </u> </br>\n",
    "<i>Hint</i>: What search algorithm has a runtime of log()?\n",
    "* Binary Search (which falls under divide and conqure technique as well)\n",
    "    - Since both arrays are sorted initally\n",
    "    \n",
    "Meaning we have to find a way to apply binary search to both list to find the median"
   ]
  },
  {
   "cell_type": "markdown",
   "id": "4e43e56d",
   "metadata": {},
   "source": [
    "#### How can we use Binary Search to find median of two sorted arrays of different size?\n",
    "\n",
    "Image we have 2 sorted list $X$ and $Y$:\n",
    "* $X -> x_1, x_2, x_3, x_4, x_5 $\n",
    "    - Median $ = x_3$\n",
    "* $Y -> y_1, y_2, y_3, y_4, y_5, y_6 $\n",
    "    - Median $ =  {(y_3 + y_4)\\over 2} $\n",
    "    \n",
    "Total length of two list = $11$ <br>\n",
    "Median index(start's from $0$) of merged lists = $5$ \n",
    "\n",
    "<u>Test Example<u>:<br>\n",
    "$X = 1,4,6,8,11$<br>\n",
    "$Y = 1,3,3,5,13,17$<br>\n",
    "Median = $5$ ($y_4$)\n",
    "\n",
    "There are 2 partitons here to observer\n",
    "* Smaller than: $x_1,x_2$ and $y_1,y_2,y_3,y_4$\n",
    "* Larger than: $x_3,x_3,x_5$ and $y_5,y_6$ <br>\n",
    "    \n",
    "<u>Solution</u>:<br>\n",
    "We have to find a partition in $X$ and $Y$ using binary search that statisfy the following condition.<br>\n",
    "Assuming:<br>\n",
    "$X$ paritition $x_1, x_2$ | $x_3, x_4, x_5 $ <br>\n",
    "$Y$ paritition $y_1, y_2, y_3, y_4$ | $y_5, y_6 $<br>\n",
    "    \n",
    "Condition:<br>\n",
    "$x_2$ <= $y_5$ <br>\n",
    "$y_4$ <= $x_3$\n",
    "    \n",
    "    \n",
    "Total Lenght Odd:<br>\n",
    "    * Median = greater elemenet b/w $x_2$ and $y_4$ <br>\n",
    "Total Lenght Even:<br>\n",
    "    * Median = (greater elemenet b/w $x_2$ and $y_4$ + smaller elemenet b/w $y_3$ and $x_3$) / 2 <br>\n",
    "    "
   ]
  },
  {
   "cell_type": "markdown",
   "id": "a52092f2",
   "metadata": {},
   "source": [
    "### Implement"
   ]
  },
  {
   "cell_type": "code",
   "execution_count": 9,
   "id": "70ce7011",
   "metadata": {},
   "outputs": [],
   "source": [
    "def findMedianSortedArrays(nums1, nums2):\n",
    "    a , b = sorted((nums1,nums2), key = len)\n",
    "    a_len = len(a)\n",
    "    b_len = len(b)\n",
    "    total = a_len + b_len - 1\n",
    "    merged_half = (total) // 2\n",
    "\n",
    "    l = 0\n",
    "    r = a_len - 1\n",
    "\n",
    "    while True:\n",
    "        i = (l + r) // 2\n",
    "        j = merged_half - (i + 1)\n",
    "\n",
    "        a_left = a[i] if i >= 0 else -math.inf \n",
    "        a_right = a[i+1] if i+1 < a_len else math.inf\n",
    "\n",
    "        b_left = b[j] if j >= 0 else -math.inf\n",
    "        b_right = b[j+1] if j+1 < b_len else math.inf\n",
    "\n",
    "        if a_left <= b_right and b_left <= a_right:\n",
    "            if total % 2 == 0:\n",
    "                return max(a_left,b_left)\n",
    "            return (max(a_left,b_left) + min(b_right,a_right)) / 2\n",
    "        if a_left > b_right:\n",
    "            r = i - 1\n",
    "        else:\n",
    "            l = i + 1"
   ]
  },
  {
   "cell_type": "markdown",
   "id": "2118bf10",
   "metadata": {},
   "source": [
    "### Test"
   ]
  },
  {
   "cell_type": "code",
   "execution_count": 6,
   "id": "c9d82dd5",
   "metadata": {},
   "outputs": [
    {
     "name": "stdout",
     "output_type": "stream",
     "text": [
      "[0, 2, 4, 6, 8, 10, 12, 14, 16, 18]\n",
      "[1, 3, 5, 7, 9, 11, 13, 15, 17]\n",
      "9\n"
     ]
    }
   ],
   "source": [
    "nums1 = list(range(0, 20, 2))\n",
    "nums2 = list(range(1, 19, 2))\n",
    "print(nums1)\n",
    "print(nums2)\n",
    "print(findMedianSortedArrays(nums1, nums2))"
   ]
  },
  {
   "cell_type": "markdown",
   "id": "6e1c1647",
   "metadata": {},
   "source": [
    "# Dynamic Programming"
   ]
  },
  {
   "cell_type": "markdown",
   "id": "0ed2f3fb",
   "metadata": {},
   "source": [
    "<u>[Example](https://leetcode.com/problems/trapping-rain-water/description/)</u>:</br>\n",
    "Given `n` non-negative integers representing an elevation map where the width of each bar is `1`, compute how much water it can trap after raining.\n",
    "\n",
    "<img style=\"float: left;\" src=\"https://assets.leetcode.com/uploads/2018/10/22/rainwatertrap.png\"/>    \n",
    "\n"
   ]
  },
  {
   "cell_type": "markdown",
   "id": "cfb498f7",
   "metadata": {},
   "source": [
    "1. Understand\n",
    "2. Think\n",
    "3. Implement\n",
    "4. Test"
   ]
  },
  {
   "cell_type": "markdown",
   "id": "d9654298",
   "metadata": {},
   "source": [
    "Divide it into subproblems that can used for the next part moving forward.<br><br>\n",
    "How?<br><br>\n",
    "<b>Tabulation </b> (bottom up) approach\n",
    "* Start from left and right\n",
    "* Record max height while moving left to right or right to left \n",
    "* Track volume of water trapped by subtracting heights\n",
    "\n",
    "<i> Note: Tabulation using iteration"
   ]
  },
  {
   "cell_type": "code",
   "execution_count": 14,
   "id": "4f23ff7f",
   "metadata": {},
   "outputs": [],
   "source": [
    "def trap(heights):\n",
    "    left = 0 \n",
    "    right = len(heights) - 1\n",
    "    left_max = right_max = volume = 0\n",
    "    while left < right:\n",
    "        left_max = max(left_max, heights[left])\n",
    "        right_max = max(right_max, heights[right])\n",
    "\n",
    "        if left_max < right_max:\n",
    "            volume += left_max - heights[left]\n",
    "            left += 1\n",
    "        else:\n",
    "            volume += right_max - heights[right]\n",
    "            right -= 1\n",
    "\n",
    "    return volume"
   ]
  },
  {
   "cell_type": "code",
   "execution_count": 15,
   "id": "fd0ab9c3",
   "metadata": {},
   "outputs": [
    {
     "name": "stdout",
     "output_type": "stream",
     "text": [
      "6\n"
     ]
    }
   ],
   "source": [
    "pillar_heights = [0,1,0,2,1,0,1,3,2,1,2,1]\n",
    "print(trap(pillar_heights))"
   ]
  },
  {
   "cell_type": "markdown",
   "id": "0b03d7f3",
   "metadata": {},
   "source": [
    "<b> Memoziation </b> (Top-down) approach <br>\n",
    "Example:<br>\n",
    "Calculate Fibonnachi of a given number <br><br>\n",
    "<i> Note: Memoziation using recursion"
   ]
  },
  {
   "cell_type": "code",
   "execution_count": 16,
   "id": "694c40be",
   "metadata": {},
   "outputs": [],
   "source": [
    "def fib(n):\n",
    "    cache = {}\n",
    "    def fib_rec(n):\n",
    "        if n < 2:\n",
    "            return n\n",
    "        if n in cache:\n",
    "            return cache[n]\n",
    "        result = fib_rec(n-1) + fib_rec(n-2)\n",
    "        cache[n] = result\n",
    "        return result\n",
    "\n",
    "    return fib_rec(n)"
   ]
  },
  {
   "cell_type": "code",
   "execution_count": 18,
   "id": "7551784b",
   "metadata": {},
   "outputs": [
    {
     "name": "stdout",
     "output_type": "stream",
     "text": [
      "55\n"
     ]
    }
   ],
   "source": [
    "print(fib(10))"
   ]
  },
  {
   "cell_type": "code",
   "execution_count": null,
   "id": "f5989a28",
   "metadata": {},
   "outputs": [],
   "source": []
  }
 ],
 "metadata": {
  "kernelspec": {
   "display_name": "Python 3 (ipykernel)",
   "language": "python",
   "name": "python3"
  },
  "language_info": {
   "codemirror_mode": {
    "name": "ipython",
    "version": 3
   },
   "file_extension": ".py",
   "mimetype": "text/x-python",
   "name": "python",
   "nbconvert_exporter": "python",
   "pygments_lexer": "ipython3",
   "version": "3.9.13"
  }
 },
 "nbformat": 4,
 "nbformat_minor": 5
}
